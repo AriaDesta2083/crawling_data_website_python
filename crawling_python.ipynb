{
  "cells": [
    {
      "cell_type": "code",
      "execution_count": null,
      "metadata": {
        "id": "snmJpaeJHhWp"
      },
      "outputs": [],
      "source": [
        "from urllib.request import urlopen\n",
        "from bs4 import BeautifulSoup\n",
        "import pandas as pd\n",
        "import csv"
      ]
    },
    {
      "cell_type": "markdown",
      "metadata": {
        "id": "0_weI6ik_USb"
      },
      "source": [
        "## CRAWLING DATA Affiliations"
      ]
    },
    {
      "cell_type": "code",
      "execution_count": null,
      "metadata": {
        "colab": {
          "base_uri": "https://localhost:8080/"
        },
        "id": "3P5Axb6XnjPv",
        "outputId": "eab0cfbe-51f7-4b81-ac7c-95c86e0c3253"
      },
      "outputs": [
        {
          "name": "stdout",
          "output_type": "stream",
          "text": [
            "Crawling Success\n"
          ]
        }
      ],
      "source": [
        "list_name ,list_abbrev ,list_place ,list_id ,list_code ,list_dpt ,list_auth ,list_scoreYr ,list_scoreOv = [],[],[],[],[],[],[],[],[]\n",
        "tab = range(1,533)\n",
        "for i in tab:\n",
        "  link = 'https://sinta.kemdikbud.go.id/affiliations?page='+str(i)\n",
        "  html = urlopen(link).read()\n",
        "  besoup = BeautifulSoup(html,'lxml')\n",
        "  item = besoup.find_all('div','list-item row mb-4')\n",
        "  for i in item:\n",
        "    #! name\n",
        "    name = i.find('div','affil-name').get_text()\n",
        "    name = name.replace('\\n' ,'').rstrip()\n",
        "    list_name.append(name)\n",
        "    #! abbrev\n",
        "    abbrev = i.find('div','affil-abbrev').get_text()\n",
        "    abbrev = abbrev.replace('\\n' ,'').rstrip()\n",
        "    abbrev = abbrev.replace(' ' ,'')\n",
        "    list_abbrev.append(abbrev)\n",
        "    #! place\n",
        "    place = i.find('div','affil-loc mt-2').get_text()\n",
        "    place =place .replace('\\n' ,'').rstrip()\n",
        "    list_place.append(place)\n",
        "    #! id\n",
        "    id = i.find('div','profile-id').get_text()\n",
        "    id = id.split(' ')\n",
        "    id = int(id[3])\n",
        "    list_id.append(id)\n",
        "    #! code\n",
        "    code = i.find('div','profile-id').get_text()\n",
        "    code = code.split(' ')\n",
        "    code = code[-1]\n",
        "    list_code.append(code)\n",
        "    #! dpt\n",
        "    dpt = i.find('span',' num-stat').get_text()\n",
        "    dpt = dpt.replace('Department','').rstrip()\n",
        "    list_dpt.append(int(dpt))\n",
        "    #! auth\n",
        "    auth = i.find('span',' num-stat ml-3').get_text()\n",
        "    auth = auth.replace('Authors','').replace(',','')\n",
        "    list_auth.append(int(auth))\n",
        "    #score\n",
        "    score = i.find('div','pr-bottom row').get_text()\n",
        "    score = score.split('\\n')\n",
        "    # print(score)\n",
        "    #scoreYr\n",
        "    scoreYr =score[2].replace('.','',2)\n",
        "    list_scoreYr.append(int(scoreYr))\n",
        "    #scoreOV\n",
        "    scoreOv = score[-4].replace('.','',2)\n",
        "    list_scoreOv.append(int(scoreOv))\n",
        "\n",
        "print('Crawling Success')"
      ]
    },
    {
      "cell_type": "markdown",
      "metadata": {
        "id": "3RHJYJ5iGODH"
      },
      "source": [
        "## Create and Write CSV Affilations"
      ]
    },
    {
      "cell_type": "code",
      "execution_count": null,
      "metadata": {
        "colab": {
          "base_uri": "https://localhost:8080/",
          "height": 1000
        },
        "id": "Tlr1uXWXGXzT",
        "outputId": "6841ba95-208d-46bd-fe38-896fc5ee266f"
      },
      "outputs": [],
      "source": [
        "create_dict = { 'Name':list_name , 'Abbrev':list_abbrev , 'Place':list_place , 'Id':list_id , 'Code':list_code, 'Department':list_dpt,\n",
        "               'Authors':list_auth,'Score 3 Yr':list_scoreYr,'Score Overall':list_scoreOv}\n",
        "data_frame = pd.DataFrame(create_dict)\n",
        "data_frame"
      ]
    },
    {
      "cell_type": "code",
      "execution_count": null,
      "metadata": {
        "id": "FHDpiqiaOnV1"
      },
      "outputs": [],
      "source": [
        "data_frame.to_csv('sinta_kemdikbud_affiliations.csv',sep=',',index=False)\n",
        "print('sinta_kemdikbud_affiliations.csv telah dibuat')"
      ]
    },
    {
      "cell_type": "markdown",
      "metadata": {
        "id": "-hXXO-wWKRac"
      },
      "source": [
        "## CRAWLING DATA DEPARTMENT"
      ]
    },
    {
      "cell_type": "code",
      "execution_count": null,
      "metadata": {
        "colab": {
          "base_uri": "https://localhost:8080/"
        },
        "id": "jO9JwTIuoBE2",
        "outputId": "cae9f73e-5a89-4c33-b265-bfd8d18b6178"
      },
      "outputs": [],
      "source": [
        "list_name_affil , list_level_dpt ,list_name_dpt ,list_authors_dpt , list_code_dpt , list_scoreYr_dpt , list_scoreOv_dpt = [],[],[],[],[],[],[]\n",
        "tab = range(1,500)\n",
        "runn=0\n",
        "try:\n",
        "  for idcode in range(len(list_name)):\n",
        "    affil = list_name[idcode]\n",
        "    id = list_id[idcode]\n",
        "    code = list_code[idcode]\n",
        "    print('\\n')\n",
        "    print(affil)\n",
        "    for pages in tab:\n",
        "      link_dpt = 'https://sinta.kemdikbud.go.id/affiliations/departments/'+str(id)+'/'+str(code)+'?page='+str(pages)\n",
        "      html = urlopen(link_dpt).read()\n",
        "      besoup = BeautifulSoup(html,'lxml')\n",
        "      item = besoup.find_all('div','row d-item mb-4 pb-2 mt-3')\n",
        "      if item == []:\n",
        "        break\n",
        "      for i in item:\n",
        "        list_name_affil.append(affil)\n",
        "        #level_dpt\n",
        "        level_dpt = i.find('div','col-lg-1 tbl-content-meta mb-2').get_text()\n",
        "        level_dpt = level_dpt.replace('\\n' ,'').rstrip()\n",
        "        list_level_dpt.append(level_dpt)\n",
        "\n",
        "        #name_dpt\n",
        "        name_dpt = i.find('a',).get_text()\n",
        "        name_dpt = name_dpt.replace('\\n' ,'').rstrip()\n",
        "        list_name_dpt.append(name_dpt)\n",
        "\n",
        "        #authors\n",
        "        authors = i.find('li','au-more')\n",
        "        auth = i.find_all('img','img-aut-prev')\n",
        "        if authors != None:\n",
        "          authors = authors.get_text()\n",
        "          authors = authors.split(' ')\n",
        "          if authors[1] == 'No':\n",
        "            authors = 0\n",
        "          else:\n",
        "            authors = int(authors[1])\n",
        "        elif authors == None:\n",
        "          authors = 0\n",
        "        total_authors = len(auth) + authors\n",
        "        list_authors_dpt.append(total_authors)\n",
        "        #code_dpt\n",
        "        code_dpt = i.find('div','tbl-content-meta-num').get_text()\n",
        "        code_dpt = code_dpt.replace(' ' ,'').rstrip()\n",
        "        list_code_dpt.append(int(code_dpt))\n",
        "        #score\n",
        "        score_dpt = i.find('div','profile-hindex').get_text()\n",
        "        score_dpt = score_dpt.replace(' ' ,'').rstrip()\n",
        "        score_dpt = score_dpt.split('\\n')\n",
        "        # print(score_dpt)\n",
        "        #scoreYr_dpt\n",
        "        scoreYr_dpt = score_dpt[-1]\n",
        "        scoreYr_dpt = scoreYr_dpt.replace('SINTAScore3Yr:','')\n",
        "        list_scoreYr_dpt.append(int(scoreYr_dpt))\n",
        "        #scoreOv_dpt\n",
        "        scoreOv_dpt = score_dpt[2]\n",
        "        scoreOv_dpt = scoreOv_dpt.replace('SINTAScoreOverall:','')\n",
        "        list_scoreOv_dpt.append(int(scoreOv_dpt))\n",
        "        runn+=1\n",
        "        print(runn,end=\" \")\n",
        "\n",
        "print('Crawling Affiliations Departments Success')\n",
        "\n",
        "except:\n",
        "  print(affil)\n",
        "  print(runn)\n"
      ]
    },
    {
      "cell_type": "markdown",
      "metadata": {
        "id": "ncyrmNPkSO7N"
      },
      "source": [
        "## CREATE CSV DEPARTMENTS"
      ]
    },
    {
      "cell_type": "code",
      "execution_count": null,
      "metadata": {
        "id": "VvVkJsrlIE8R"
      },
      "outputs": [],
      "source": [
        "create_dict_dpt = { 'Affiliations':list_name_affil , 'Level':list_level_dpt , \n",
        "                   'Department':list_name_dpt , 'Authors':list_authors_dpt , \n",
        "                   'Code ':list_code_dpt, 'Score 3 Yr':list_scoreYr_dpt,'Score Overall':list_scoreOv_dpt}\n",
        "data_frame_dpt = pd.DataFrame(create_dict_dpt)\n",
        "data_frame_dpt"
      ]
    },
    {
      "cell_type": "code",
      "execution_count": null,
      "metadata": {
        "id": "5m67wRYQR6V4"
      },
      "outputs": [],
      "source": [
        "data_frame_dpt.to_csv('sinta_kemdikbud_departments.csv',sep=',',index=False)\n",
        "print('sinta_kemdikbud_departments.csv telah dibuat')\n"
      ]
    }
  ],
  "metadata": {
    "colab": {
      "collapsed_sections": [],
      "provenance": []
    },
    "kernelspec": {
      "display_name": "Python 3.10.5 64-bit",
      "language": "python",
      "name": "python3"
    },
    "language_info": {
      "name": "python",
      "version": "3.10.5"
    },
    "vscode": {
      "interpreter": {
        "hash": "9c8f86fe8db803d49220be5e170c4fa5c36be8aa3f3394d3e37712bd9fb4229d"
      }
    }
  },
  "nbformat": 4,
  "nbformat_minor": 0
}
